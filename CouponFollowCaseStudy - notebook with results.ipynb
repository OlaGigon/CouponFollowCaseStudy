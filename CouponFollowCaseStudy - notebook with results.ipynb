{
 "cells": [
  {
   "cell_type": "markdown",
   "metadata": {
    "application/vnd.databricks.v1+cell": {
     "cellMetadata": {},
     "inputWidgets": {},
     "nuid": "6bfca954-07ab-49ef-9531-b9e07f9a1587",
     "showTitle": false,
     "title": ""
    }
   },
   "source": [
    "#Connecting to the blob storage, fetching the csv files, creating dataframes and temporary views for analysis"
   ]
  },
  {
   "cell_type": "code",
   "execution_count": 0,
   "metadata": {
    "application/vnd.databricks.v1+cell": {
     "cellMetadata": {
      "byteLimit": 2048000,
      "rowLimit": 10000
     },
     "inputWidgets": {},
     "nuid": "07f93625-5133-470e-b721-eaa4cd68f4f6",
     "showTitle": false,
     "title": ""
    }
   },
   "outputs": [],
   "source": [
    "storage_account_name = 'inputstorageag'\n",
    "\n",
    "storage_account_access_key = 'xxxxxx'\n",
    "\n",
    "spark.conf.set('fs.azure.account.key.' + storage_account_name + '.blob.core.windows.net', storage_account_access_key)\n",
    "\n",
    "blob_container = 'landing'\n",
    "\n"
   ]
  },
  {
   "cell_type": "code",
   "execution_count": 0,
   "metadata": {
    "application/vnd.databricks.v1+cell": {
     "cellMetadata": {
      "byteLimit": 2048000,
      "rowLimit": 10000
     },
     "inputWidgets": {},
     "nuid": "ea4a6f11-8f94-4323-b09e-f36112e73082",
     "showTitle": false,
     "title": ""
    }
   },
   "outputs": [],
   "source": [
    "filePath = \"wasbs://\" + blob_container + \"@\" + storage_account_name + \".blob.core.windows.net/Advertisers.csv\"\n",
    "\n",
    "AdvertisersDf = spark.read.format('csv').load(filePath, inferSchema = True, header = True)"
   ]
  },
  {
   "cell_type": "code",
   "execution_count": 0,
   "metadata": {
    "application/vnd.databricks.v1+cell": {
     "cellMetadata": {
      "byteLimit": 2048000,
      "rowLimit": 10000
     },
     "inputWidgets": {},
     "nuid": "d57c535f-5afb-437a-b05d-a8fe322d9d1a",
     "showTitle": false,
     "title": ""
    }
   },
   "outputs": [],
   "source": [
    "filePath = \"wasbs://\" + blob_container + \"@\" + storage_account_name + \".blob.core.windows.net/Affiliate_Network.csv\"\n",
    "Affiliate_NetworkDf = spark.read.format('csv').load(filePath, inferSchema = True, header = True)\n"
   ]
  },
  {
   "cell_type": "code",
   "execution_count": 0,
   "metadata": {
    "application/vnd.databricks.v1+cell": {
     "cellMetadata": {
      "byteLimit": 2048000,
      "rowLimit": 10000
     },
     "inputWidgets": {},
     "nuid": "5eb800ae-9395-4baa-9d91-77788c7831f8",
     "showTitle": false,
     "title": ""
    }
   },
   "outputs": [],
   "source": [
    "filePath = \"wasbs://\" + blob_container + \"@\" + storage_account_name + \".blob.core.windows.net/Clicks.csv\"\n",
    "ClicksDf = spark.read.format('csv').load(filePath, inferSchema = True, header = True)"
   ]
  },
  {
   "cell_type": "code",
   "execution_count": 0,
   "metadata": {
    "application/vnd.databricks.v1+cell": {
     "cellMetadata": {
      "byteLimit": 2048000,
      "rowLimit": 10000
     },
     "inputWidgets": {},
     "nuid": "f31fb80a-a0cd-4e2b-88c3-b496adf61b20",
     "showTitle": false,
     "title": ""
    }
   },
   "outputs": [],
   "source": [
    "filePath = \"wasbs://\" + blob_container + \"@\" + storage_account_name + \".blob.core.windows.net/CouponCodes.csv\"\n",
    "CouponCodesDf = spark.read.format('csv').load(filePath, inferSchema = True, header = True)"
   ]
  },
  {
   "cell_type": "code",
   "execution_count": 0,
   "metadata": {
    "application/vnd.databricks.v1+cell": {
     "cellMetadata": {
      "byteLimit": 2048000,
      "rowLimit": 10000
     },
     "inputWidgets": {},
     "nuid": "53fb933f-6755-4397-8d5a-a96b2e27a003",
     "showTitle": false,
     "title": ""
    }
   },
   "outputs": [],
   "source": [
    "filePath = \"wasbs://\" + blob_container + \"@\" + storage_account_name + \".blob.core.windows.net/DomainNames.csv\"\n",
    "DomainNamesDf = spark.read.format('csv').load(filePath, inferSchema = True, header = True)"
   ]
  },
  {
   "cell_type": "code",
   "execution_count": 0,
   "metadata": {
    "application/vnd.databricks.v1+cell": {
     "cellMetadata": {
      "byteLimit": 2048000,
      "rowLimit": 10000
     },
     "inputWidgets": {},
     "nuid": "ce1218ac-4177-466d-a0e5-7c825cd63233",
     "showTitle": false,
     "title": ""
    }
   },
   "outputs": [],
   "source": [
    "filePath = \"wasbs://\" + blob_container + \"@\" + storage_account_name + \".blob.core.windows.net/Orders.csv\"\n",
    "OrdersDf = spark.read.format('csv').load(filePath, inferSchema = True, header = True)"
   ]
  },
  {
   "cell_type": "code",
   "execution_count": 0,
   "metadata": {
    "application/vnd.databricks.v1+cell": {
     "cellMetadata": {
      "byteLimit": 2048000,
      "rowLimit": 10000
     },
     "inputWidgets": {},
     "nuid": "5c0ef1f1-6bef-413b-af8b-0f85081ee7e5",
     "showTitle": false,
     "title": ""
    }
   },
   "outputs": [],
   "source": [
    "filePath = \"wasbs://\" + blob_container + \"@\" + storage_account_name + \".blob.core.windows.net/PageViews.csv\"\n",
    "PageViewsDf = spark.read.format('csv').load(filePath, inferSchema = True, header = True)"
   ]
  },
  {
   "cell_type": "code",
   "execution_count": 0,
   "metadata": {
    "application/vnd.databricks.v1+cell": {
     "cellMetadata": {
      "byteLimit": 2048000,
      "rowLimit": 10000
     },
     "inputWidgets": {},
     "nuid": "fbe95d6d-b481-4d4a-9209-6cd30c18dff0",
     "showTitle": false,
     "title": ""
    }
   },
   "outputs": [],
   "source": [
    "filePath = \"wasbs://\" + blob_container + \"@\" + storage_account_name + \".blob.core.windows.net/PartnerWebsites.csv\"\n",
    "PartnerWebsitesDf = spark.read.format('csv').load(filePath, inferSchema = True, header = True)"
   ]
  },
  {
   "cell_type": "code",
   "execution_count": 0,
   "metadata": {
    "application/vnd.databricks.v1+cell": {
     "cellMetadata": {
      "byteLimit": 2048000,
      "rowLimit": 10000
     },
     "inputWidgets": {},
     "nuid": "effb3448-5ecb-4b20-b909-900abbe1f211",
     "showTitle": false,
     "title": ""
    }
   },
   "outputs": [],
   "source": [
    "filePath = \"wasbs://\" + blob_container + \"@\" + storage_account_name + \".blob.core.windows.net/Promotions.csv\"\n",
    "PromotionsDf = spark.read.format('csv').load(filePath, inferSchema = True, header = True)"
   ]
  },
  {
   "cell_type": "code",
   "execution_count": 0,
   "metadata": {
    "application/vnd.databricks.v1+cell": {
     "cellMetadata": {
      "byteLimit": 2048000,
      "rowLimit": 10000
     },
     "inputWidgets": {},
     "nuid": "81a087e8-2b7b-4867-8d32-4ce33aeb6ea3",
     "showTitle": false,
     "title": ""
    }
   },
   "outputs": [],
   "source": [
    "AdvertisersDf.createOrReplaceTempView(\"Advertisers\")"
   ]
  },
  {
   "cell_type": "code",
   "execution_count": 0,
   "metadata": {
    "application/vnd.databricks.v1+cell": {
     "cellMetadata": {
      "byteLimit": 2048000,
      "rowLimit": 10000
     },
     "inputWidgets": {},
     "nuid": "c7900f73-819e-4911-b9c7-a82181db9f40",
     "showTitle": false,
     "title": ""
    }
   },
   "outputs": [],
   "source": [
    "Affiliate_NetworkDf.createOrReplaceTempView(\"Affiliate_Network\")"
   ]
  },
  {
   "cell_type": "code",
   "execution_count": 0,
   "metadata": {
    "application/vnd.databricks.v1+cell": {
     "cellMetadata": {
      "byteLimit": 2048000,
      "rowLimit": 10000
     },
     "inputWidgets": {},
     "nuid": "8b9c4a2e-c38a-45f9-95af-1ab79e1f0629",
     "showTitle": false,
     "title": ""
    }
   },
   "outputs": [],
   "source": [
    "ClicksDf.createOrReplaceTempView(\"Clicks\")"
   ]
  },
  {
   "cell_type": "code",
   "execution_count": 0,
   "metadata": {
    "application/vnd.databricks.v1+cell": {
     "cellMetadata": {
      "byteLimit": 2048000,
      "rowLimit": 10000
     },
     "inputWidgets": {},
     "nuid": "105ce10a-8ea2-4d95-911a-73b40bfbb1e1",
     "showTitle": false,
     "title": ""
    }
   },
   "outputs": [],
   "source": [
    "CouponCodesDf.createOrReplaceTempView(\"CouponCodes\")"
   ]
  },
  {
   "cell_type": "code",
   "execution_count": 0,
   "metadata": {
    "application/vnd.databricks.v1+cell": {
     "cellMetadata": {
      "byteLimit": 2048000,
      "rowLimit": 10000
     },
     "inputWidgets": {},
     "nuid": "e88d62ba-bb00-4943-b453-8990a6e4d90c",
     "showTitle": false,
     "title": ""
    }
   },
   "outputs": [],
   "source": [
    "DomainNamesDf.createOrReplaceTempView(\"DomainNames\")"
   ]
  },
  {
   "cell_type": "code",
   "execution_count": 0,
   "metadata": {
    "application/vnd.databricks.v1+cell": {
     "cellMetadata": {
      "byteLimit": 2048000,
      "rowLimit": 10000
     },
     "inputWidgets": {},
     "nuid": "ab7a26a8-e174-4e7c-b1ff-726f0f35aa62",
     "showTitle": false,
     "title": ""
    }
   },
   "outputs": [],
   "source": [
    "OrdersDf.createOrReplaceTempView(\"Orders\")"
   ]
  },
  {
   "cell_type": "code",
   "execution_count": 0,
   "metadata": {
    "application/vnd.databricks.v1+cell": {
     "cellMetadata": {
      "byteLimit": 2048000,
      "rowLimit": 10000
     },
     "inputWidgets": {},
     "nuid": "0ac130fb-fd7b-4342-8ea7-7900b008f2b4",
     "showTitle": false,
     "title": ""
    }
   },
   "outputs": [],
   "source": [
    "PageViewsDf.createOrReplaceTempView(\"PageViews\")"
   ]
  },
  {
   "cell_type": "code",
   "execution_count": 0,
   "metadata": {
    "application/vnd.databricks.v1+cell": {
     "cellMetadata": {
      "byteLimit": 2048000,
      "rowLimit": 10000
     },
     "inputWidgets": {},
     "nuid": "63b3845a-f0d1-4f62-9b05-369d980864f6",
     "showTitle": false,
     "title": ""
    }
   },
   "outputs": [],
   "source": [
    "PartnerWebsitesDf.createOrReplaceTempView(\"PartnerWebsites\")"
   ]
  },
  {
   "cell_type": "code",
   "execution_count": 0,
   "metadata": {
    "application/vnd.databricks.v1+cell": {
     "cellMetadata": {
      "byteLimit": 2048000,
      "rowLimit": 10000
     },
     "inputWidgets": {},
     "nuid": "4d452a85-fea7-43ee-9038-6314365462cb",
     "showTitle": false,
     "title": ""
    }
   },
   "outputs": [],
   "source": [
    "PromotionsDf.createOrReplaceTempView(\"Promotions\")"
   ]
  },
  {
   "cell_type": "markdown",
   "metadata": {
    "application/vnd.databricks.v1+cell": {
     "cellMetadata": {},
     "inputWidgets": {},
     "nuid": "7c3e87e5-82cf-4983-b40d-aeca79d93f8e",
     "showTitle": false,
     "title": ""
    }
   },
   "source": [
    "#Tasks from case study"
   ]
  },
  {
   "cell_type": "markdown",
   "metadata": {
    "application/vnd.databricks.v1+cell": {
     "cellMetadata": {},
     "inputWidgets": {},
     "nuid": "d6d4cb01-844b-4888-8d85-d051c402e192",
     "showTitle": false,
     "title": ""
    }
   },
   "source": [
    "Top 3 retailers/advertisers by revenue"
   ]
  },
  {
   "cell_type": "code",
   "execution_count": 0,
   "metadata": {
    "application/vnd.databricks.v1+cell": {
     "cellMetadata": {
      "byteLimit": 2048000,
      "implicitDf": true,
      "rowLimit": 10000
     },
     "inputWidgets": {},
     "nuid": "81169671-01ba-4131-beb0-368874e093aa",
     "showTitle": false,
     "title": ""
    }
   },
   "outputs": [
    {
     "output_type": "display_data",
     "data": {
      "text/html": [
       "<style scoped>\n",
       "  .table-result-container {\n",
       "    max-height: 300px;\n",
       "    overflow: auto;\n",
       "  }\n",
       "  table, th, td {\n",
       "    border: 1px solid black;\n",
       "    border-collapse: collapse;\n",
       "  }\n",
       "  th, td {\n",
       "    padding: 5px;\n",
       "  }\n",
       "  th {\n",
       "    text-align: left;\n",
       "  }\n",
       "</style><div class='table-result-container'><table class='table-result'><thead style='background-color: white'><tr><th>ADVERTISERID</th><th>ADVERTISERNAME</th></tr></thead><tbody><tr><td>6845</td><td>null</td></tr><tr><td>80194</td><td>null</td></tr><tr><td>7231</td><td>null</td></tr></tbody></table></div>"
      ]
     },
     "metadata": {
      "application/vnd.databricks.v1+output": {
       "addedWidgets": {},
       "aggData": [],
       "aggError": "",
       "aggOverflow": false,
       "aggSchema": [],
       "aggSeriesLimitReached": false,
       "aggType": "",
       "arguments": {},
       "columnCustomDisplayInfos": {},
       "data": [
        [
         "6845",
         null
        ],
        [
         "80194",
         null
        ],
        [
         "7231",
         null
        ]
       ],
       "datasetInfos": [],
       "dbfsResultPath": null,
       "isJsonSchema": true,
       "metadata": {
        "isDbfsCommandResult": false
       },
       "overflow": false,
       "plotOptions": {
        "customPlotOptions": {},
        "displayType": "table",
        "pivotAggregation": null,
        "pivotColumns": null,
        "xColumns": null,
        "yColumns": null
       },
       "removedWidgets": [],
       "schema": [
        {
         "metadata": "{}",
         "name": "ADVERTISERID",
         "type": "\"string\""
        },
        {
         "metadata": "{}",
         "name": "ADVERTISERNAME",
         "type": "\"string\""
        }
       ],
       "type": "table"
      }
     },
     "output_type": "display_data"
    }
   ],
   "source": [
    "%sql\n",
    "--ranking advertisers by revenue (revenue understood as sum of all commision amount)\n",
    "WITH t1 AS (\n",
    "  SELECT o.*, \n",
    "  DENSE_RANK() OVER(ORDER BY Revenue DESC) AS ranking\n",
    "  FROM (SELECT o.*,\n",
    "        SUM(COMMISSIONAMOUNT) OVER (PARTITION BY ADVERTISERID) AS Revenue\n",
    "        FROM Orders o) o\n",
    ")\n",
    "\n",
    "--choosing top 3 advertisers with their names \n",
    "SELECT DISTINCT t1.ADVERTISERID, a.ADVERTISERNAME\n",
    "FROM t1\n",
    "LEFT JOIN Advertisers a ON a.ADVERTISERID=t1.ADVERTISERID\n",
    "WHERE ranking<=3\n",
    "\n",
    "/*Additional comments to this task: \n",
    "1. List of adversisers in incompleted. Not all AdvertiserId's that are in Orders table are present in Advertisers table. \n",
    "*/\n"
   ]
  },
  {
   "cell_type": "markdown",
   "metadata": {
    "application/vnd.databricks.v1+cell": {
     "cellMetadata": {},
     "inputWidgets": {},
     "nuid": "68dda910-7c67-421e-93a0-d94580fa9dc4",
     "showTitle": false,
     "title": ""
    }
   },
   "source": [
    "Top 3 retailers/advertisers by page views"
   ]
  },
  {
   "cell_type": "code",
   "execution_count": 0,
   "metadata": {
    "application/vnd.databricks.v1+cell": {
     "cellMetadata": {
      "byteLimit": 2048000,
      "implicitDf": true,
      "rowLimit": 10000
     },
     "inputWidgets": {},
     "nuid": "70244fb6-cc88-4adf-8e3c-d26c612bb043",
     "showTitle": false,
     "title": ""
    }
   },
   "outputs": [
    {
     "output_type": "display_data",
     "data": {
      "text/html": [
       "<style scoped>\n",
       "  .table-result-container {\n",
       "    max-height: 300px;\n",
       "    overflow: auto;\n",
       "  }\n",
       "  table, th, td {\n",
       "    border: 1px solid black;\n",
       "    border-collapse: collapse;\n",
       "  }\n",
       "  th, td {\n",
       "    padding: 5px;\n",
       "  }\n",
       "  th {\n",
       "    text-align: left;\n",
       "  }\n",
       "</style><div class='table-result-container'><table class='table-result'><thead style='background-color: white'><tr><th>DOMAIN_NAME</th><th>ranking</th></tr></thead><tbody><tr><td>ubereats.com</td><td>1</td></tr><tr><td>amazon.com</td><td>2</td></tr><tr><td>wayfair.com</td><td>3</td></tr></tbody></table></div>"
      ]
     },
     "metadata": {
      "application/vnd.databricks.v1+output": {
       "addedWidgets": {},
       "aggData": [],
       "aggError": "",
       "aggOverflow": false,
       "aggSchema": [],
       "aggSeriesLimitReached": false,
       "aggType": "",
       "arguments": {},
       "columnCustomDisplayInfos": {},
       "data": [
        [
         "ubereats.com",
         1
        ],
        [
         "amazon.com",
         2
        ],
        [
         "wayfair.com",
         3
        ]
       ],
       "datasetInfos": [],
       "dbfsResultPath": null,
       "isJsonSchema": true,
       "metadata": {
        "isDbfsCommandResult": false
       },
       "overflow": false,
       "plotOptions": {
        "customPlotOptions": {},
        "displayType": "table",
        "pivotAggregation": null,
        "pivotColumns": null,
        "xColumns": null,
        "yColumns": null
       },
       "removedWidgets": [],
       "schema": [
        {
         "metadata": "{}",
         "name": "DOMAIN_NAME",
         "type": "\"string\""
        },
        {
         "metadata": "{}",
         "name": "ranking",
         "type": "\"integer\""
        }
       ],
       "type": "table"
      }
     },
     "output_type": "display_data"
    }
   ],
   "source": [
    "%sql\n",
    "--calculating number of page views per domain\n",
    "WITH t1 AS(\n",
    "SELECT DOMAIN_NAME, COUNT(DISTINCT EVENT_ID) AS PageView\n",
    "FROM PageViews\n",
    "GROUP BY 1),\n",
    "\n",
    "--ranking domains by number of page views\n",
    "t2 AS(\n",
    "SELECT DOMAIN_NAME, RANK() OVER( ORDER BY PageView DESC) AS ranking\n",
    "FROM t1)\n",
    "\n",
    "--identifying top 3 domains\n",
    "SELECT * FROM t2 WHERE ranking <=3\n",
    "\n",
    "/*Additional comments to this task: \n",
    "1. The description of task states that I should identify top 3 advertisers by number of page views. I wasn't sure whether domain is the same thing as advertiser (though they have similar and matching names)\n",
    "but otherwise it is impossible to perform this task (it is impossible to link PageViews table with Advertisers table due to missing key in Orders table - DomainNameID)\n",
    "2. Even if there was a DomainNameID key in the Orders table I think that we still wouldn't get correct data as we would end up counting ONLY these Page Views that led to Orders and I'm sure you loose a part of users at each stage of the funnel (PageView -> Click -> Order). In order to get a AdvertiserName there should be a foreign key (advertiserID) in the PageViews table.\n",
    "*/"
   ]
  },
  {
   "cell_type": "markdown",
   "metadata": {
    "application/vnd.databricks.v1+cell": {
     "cellMetadata": {},
     "inputWidgets": {},
     "nuid": "eb257d28-21c4-4bc2-91e3-79df1e82ce9f",
     "showTitle": false,
     "title": ""
    }
   },
   "source": [
    "Average Commission Rate (Commission Rate = commissions/sale amount)"
   ]
  },
  {
   "cell_type": "code",
   "execution_count": 0,
   "metadata": {
    "application/vnd.databricks.v1+cell": {
     "cellMetadata": {
      "byteLimit": 2048000,
      "implicitDf": true,
      "rowLimit": 10000
     },
     "inputWidgets": {},
     "nuid": "4e768a91-d1c4-4e12-bef7-700d269b99bc",
     "showTitle": false,
     "title": ""
    }
   },
   "outputs": [
    {
     "output_type": "display_data",
     "data": {
      "text/html": [
       "<style scoped>\n",
       "  .table-result-container {\n",
       "    max-height: 300px;\n",
       "    overflow: auto;\n",
       "  }\n",
       "  table, th, td {\n",
       "    border: 1px solid black;\n",
       "    border-collapse: collapse;\n",
       "  }\n",
       "  th, td {\n",
       "    padding: 5px;\n",
       "  }\n",
       "  th {\n",
       "    text-align: left;\n",
       "  }\n",
       "</style><div class='table-result-container'><table class='table-result'><thead style='background-color: white'><tr><th>CommisionRate</th></tr></thead><tbody><tr><td>0.09982</td></tr></tbody></table></div>"
      ]
     },
     "metadata": {
      "application/vnd.databricks.v1+output": {
       "addedWidgets": {},
       "aggData": [],
       "aggError": "",
       "aggOverflow": false,
       "aggSchema": [],
       "aggSeriesLimitReached": false,
       "aggType": "",
       "arguments": {},
       "columnCustomDisplayInfos": {},
       "data": [
        [
         0.09982
        ]
       ],
       "datasetInfos": [],
       "dbfsResultPath": null,
       "isJsonSchema": true,
       "metadata": {
        "isDbfsCommandResult": false
       },
       "overflow": false,
       "plotOptions": {
        "customPlotOptions": {},
        "displayType": "table",
        "pivotAggregation": null,
        "pivotColumns": null,
        "xColumns": null,
        "yColumns": null
       },
       "removedWidgets": [],
       "schema": [
        {
         "metadata": "{}",
         "name": "CommisionRate",
         "type": "\"double\""
        }
       ],
       "type": "table"
      }
     },
     "output_type": "display_data"
    }
   ],
   "source": [
    "%sql\n",
    "SELECT ROUND(SUM(COMMISSIONAMOUNT)/SUM(SALEAMOUNT), 5) AS CommisionRate \n",
    "FROM Orders\n",
    "\n",
    "/* Additional comments: \n",
    "1. I was thinking of using AVG(COMMISSIONAMOUNT/SALEAMOUNT) but in this case I wouldn't take weights of Sale Amount into consideration and as a consequence I wouldn't differentiate between them.\n",
    "*/"
   ]
  },
  {
   "cell_type": "markdown",
   "metadata": {
    "application/vnd.databricks.v1+cell": {
     "cellMetadata": {},
     "inputWidgets": {},
     "nuid": "7a334ebe-2bac-42fd-a187-82f95c5724fa",
     "showTitle": false,
     "title": ""
    }
   },
   "source": [
    "Number of unique page views"
   ]
  },
  {
   "cell_type": "code",
   "execution_count": 0,
   "metadata": {
    "application/vnd.databricks.v1+cell": {
     "cellMetadata": {
      "byteLimit": 2048000,
      "implicitDf": true,
      "rowLimit": 10000
     },
     "inputWidgets": {},
     "nuid": "33ef0f5c-660b-45f2-98d7-d8a3d29f6345",
     "showTitle": false,
     "title": ""
    }
   },
   "outputs": [
    {
     "output_type": "display_data",
     "data": {
      "text/html": [
       "<style scoped>\n",
       "  .table-result-container {\n",
       "    max-height: 300px;\n",
       "    overflow: auto;\n",
       "  }\n",
       "  table, th, td {\n",
       "    border: 1px solid black;\n",
       "    border-collapse: collapse;\n",
       "  }\n",
       "  th, td {\n",
       "    padding: 5px;\n",
       "  }\n",
       "  th {\n",
       "    text-align: left;\n",
       "  }\n",
       "</style><div class='table-result-container'><table class='table-result'><thead style='background-color: white'><tr><th>UniquePageViews</th></tr></thead><tbody><tr><td>17792901</td></tr></tbody></table></div>"
      ]
     },
     "metadata": {
      "application/vnd.databricks.v1+output": {
       "addedWidgets": {},
       "aggData": [],
       "aggError": "",
       "aggOverflow": false,
       "aggSchema": [],
       "aggSeriesLimitReached": false,
       "aggType": "",
       "arguments": {},
       "columnCustomDisplayInfos": {},
       "data": [
        [
         17792901
        ]
       ],
       "datasetInfos": [],
       "dbfsResultPath": null,
       "isJsonSchema": true,
       "metadata": {
        "isDbfsCommandResult": false
       },
       "overflow": false,
       "plotOptions": {
        "customPlotOptions": {},
        "displayType": "table",
        "pivotAggregation": null,
        "pivotColumns": null,
        "xColumns": null,
        "yColumns": null
       },
       "removedWidgets": [],
       "schema": [
        {
         "metadata": "{}",
         "name": "UniquePageViews",
         "type": "\"long\""
        }
       ],
       "type": "table"
      }
     },
     "output_type": "display_data"
    }
   ],
   "source": [
    "%sql\n",
    "SELECT COUNT(DISTINCT PV.EVENT_ID) AS UniquePageViews\n",
    "FROM PageViews AS PV\n",
    "\n",
    "/* Additional comments: \n",
    "My concern here was the methodology of assigning EVENT_IDs. Are there changing after every time a given user refreshes the website? Or are there some time criteria after which there is a new event_id for the same user (30 minutes of inactivity etc.)\n",
    "*/"
   ]
  },
  {
   "cell_type": "markdown",
   "metadata": {
    "application/vnd.databricks.v1+cell": {
     "cellMetadata": {},
     "inputWidgets": {},
     "nuid": "699cd494-c54f-4748-a789-d59779ff5120",
     "showTitle": false,
     "title": ""
    }
   },
   "source": [
    "Rolling sum of order count"
   ]
  },
  {
   "cell_type": "code",
   "execution_count": 0,
   "metadata": {
    "application/vnd.databricks.v1+cell": {
     "cellMetadata": {
      "byteLimit": 2048000,
      "implicitDf": true,
      "rowLimit": 10000
     },
     "inputWidgets": {},
     "nuid": "9c1fb516-7688-4298-be91-20b18a29d634",
     "showTitle": false,
     "title": ""
    }
   },
   "outputs": [
    {
     "output_type": "display_data",
     "data": {
      "text/html": [
       "<style scoped>\n",
       "  .table-result-container {\n",
       "    max-height: 300px;\n",
       "    overflow: auto;\n",
       "  }\n",
       "  table, th, td {\n",
       "    border: 1px solid black;\n",
       "    border-collapse: collapse;\n",
       "  }\n",
       "  th, td {\n",
       "    padding: 5px;\n",
       "  }\n",
       "  th {\n",
       "    text-align: left;\n",
       "  }\n",
       "</style><div class='table-result-container'><table class='table-result'><thead style='background-color: white'><tr><th>TransDate</th><th>NoOrders</th><th>RollingSum</th></tr></thead><tbody><tr><td>2022-02-07</td><td>16304</td><td>16304</td></tr><tr><td>2022-02-08</td><td>16277</td><td>32581</td></tr><tr><td>2022-02-09</td><td>15613</td><td>48194</td></tr><tr><td>2022-02-10</td><td>15182</td><td>63376</td></tr><tr><td>2022-02-11</td><td>15772</td><td>79148</td></tr><tr><td>2022-02-12</td><td>14347</td><td>93495</td></tr><tr><td>2022-02-13</td><td>14481</td><td>107976</td></tr><tr><td>2022-02-14</td><td>14756</td><td>122732</td></tr><tr><td>2022-02-15</td><td>15759</td><td>138491</td></tr><tr><td>2022-02-16</td><td>15764</td><td>154255</td></tr><tr><td>2022-02-17</td><td>14707</td><td>168962</td></tr><tr><td>2022-02-18</td><td>14758</td><td>183720</td></tr><tr><td>2022-02-19</td><td>14344</td><td>198064</td></tr><tr><td>2022-02-20</td><td>15025</td><td>213089</td></tr><tr><td>2022-02-21</td><td>16636</td><td>229725</td></tr><tr><td>2022-02-22</td><td>17035</td><td>246760</td></tr><tr><td>2022-02-23</td><td>16186</td><td>262946</td></tr><tr><td>2022-02-24</td><td>16731</td><td>279677</td></tr><tr><td>2022-02-25</td><td>17270</td><td>296947</td></tr><tr><td>2022-02-26</td><td>16061</td><td>313008</td></tr><tr><td>2022-02-27</td><td>17500</td><td>330508</td></tr><tr><td>2022-02-28</td><td>17404</td><td>347912</td></tr><tr><td>2022-03-01</td><td>17453</td><td>365365</td></tr><tr><td>2022-03-02</td><td>16661</td><td>382026</td></tr><tr><td>2022-03-03</td><td>16524</td><td>398550</td></tr><tr><td>2022-03-04</td><td>16384</td><td>414934</td></tr><tr><td>2022-03-05</td><td>15157</td><td>430091</td></tr><tr><td>2022-03-06</td><td>16309</td><td>446400</td></tr><tr><td>2022-03-07</td><td>17380</td><td>463780</td></tr><tr><td>2022-03-08</td><td>10553</td><td>474333</td></tr><tr><td>2022-03-09</td><td>1768</td><td>476101</td></tr></tbody></table></div>"
      ]
     },
     "metadata": {
      "application/vnd.databricks.v1+output": {
       "addedWidgets": {},
       "aggData": [],
       "aggError": "",
       "aggOverflow": false,
       "aggSchema": [],
       "aggSeriesLimitReached": false,
       "aggType": "",
       "arguments": {},
       "columnCustomDisplayInfos": {},
       "data": [
        [
         "2022-02-07",
         16304,
         16304
        ],
        [
         "2022-02-08",
         16277,
         32581
        ],
        [
         "2022-02-09",
         15613,
         48194
        ],
        [
         "2022-02-10",
         15182,
         63376
        ],
        [
         "2022-02-11",
         15772,
         79148
        ],
        [
         "2022-02-12",
         14347,
         93495
        ],
        [
         "2022-02-13",
         14481,
         107976
        ],
        [
         "2022-02-14",
         14756,
         122732
        ],
        [
         "2022-02-15",
         15759,
         138491
        ],
        [
         "2022-02-16",
         15764,
         154255
        ],
        [
         "2022-02-17",
         14707,
         168962
        ],
        [
         "2022-02-18",
         14758,
         183720
        ],
        [
         "2022-02-19",
         14344,
         198064
        ],
        [
         "2022-02-20",
         15025,
         213089
        ],
        [
         "2022-02-21",
         16636,
         229725
        ],
        [
         "2022-02-22",
         17035,
         246760
        ],
        [
         "2022-02-23",
         16186,
         262946
        ],
        [
         "2022-02-24",
         16731,
         279677
        ],
        [
         "2022-02-25",
         17270,
         296947
        ],
        [
         "2022-02-26",
         16061,
         313008
        ],
        [
         "2022-02-27",
         17500,
         330508
        ],
        [
         "2022-02-28",
         17404,
         347912
        ],
        [
         "2022-03-01",
         17453,
         365365
        ],
        [
         "2022-03-02",
         16661,
         382026
        ],
        [
         "2022-03-03",
         16524,
         398550
        ],
        [
         "2022-03-04",
         16384,
         414934
        ],
        [
         "2022-03-05",
         15157,
         430091
        ],
        [
         "2022-03-06",
         16309,
         446400
        ],
        [
         "2022-03-07",
         17380,
         463780
        ],
        [
         "2022-03-08",
         10553,
         474333
        ],
        [
         "2022-03-09",
         1768,
         476101
        ]
       ],
       "datasetInfos": [],
       "dbfsResultPath": null,
       "isJsonSchema": true,
       "metadata": {},
       "overflow": false,
       "plotOptions": {
        "customPlotOptions": {},
        "displayType": "table",
        "pivotAggregation": null,
        "pivotColumns": null,
        "xColumns": null,
        "yColumns": null
       },
       "removedWidgets": [],
       "schema": [
        {
         "metadata": "{}",
         "name": "TransDate",
         "type": "\"date\""
        },
        {
         "metadata": "{}",
         "name": "NoOrders",
         "type": "\"long\""
        },
        {
         "metadata": "{}",
         "name": "RollingSum",
         "type": "\"long\""
        }
       ],
       "type": "table"
      }
     },
     "output_type": "display_data"
    }
   ],
   "source": [
    "%sql\n",
    "--first calculate the number of orders per day\n",
    "WITH t1 AS(\n",
    "SELECT  CAST(TRANSACTIONDATE AS date) AS TransDate, COUNT(DISTINCT ORDERID) AS NoOrders\n",
    "FROM Orders\n",
    "GROUP BY 1\n",
    "ORDER BY 1 ASC\n",
    ")\n",
    "--calcualting rolling sum \n",
    "SELECT TransDate, NoOrders, SUM(NoOrders) OVER (ORDER BY TransDate ASC) AS RollingSum\n",
    "FROM t1\n"
   ]
  },
  {
   "cell_type": "markdown",
   "metadata": {
    "application/vnd.databricks.v1+cell": {
     "cellMetadata": {},
     "inputWidgets": {},
     "nuid": "b1272e0e-089a-4ad6-a8a0-d62e51f61328",
     "showTitle": false,
     "title": ""
    }
   },
   "source": [
    "Month-over-month comparison of revenue broken down by affiliate network (is revenue going up or down for the various affiliate networks?)"
   ]
  },
  {
   "cell_type": "code",
   "execution_count": 0,
   "metadata": {
    "application/vnd.databricks.v1+cell": {
     "cellMetadata": {
      "byteLimit": 2048000,
      "implicitDf": true,
      "rowLimit": 10000
     },
     "inputWidgets": {},
     "nuid": "fe870527-e77b-4604-b50a-1e4a23bc81e3",
     "showTitle": false,
     "title": ""
    }
   },
   "outputs": [
    {
     "output_type": "display_data",
     "data": {
      "text/html": [
       "<style scoped>\n",
       "  .table-result-container {\n",
       "    max-height: 300px;\n",
       "    overflow: auto;\n",
       "  }\n",
       "  table, th, td {\n",
       "    border: 1px solid black;\n",
       "    border-collapse: collapse;\n",
       "  }\n",
       "  th, td {\n",
       "    padding: 5px;\n",
       "  }\n",
       "  th {\n",
       "    text-align: left;\n",
       "  }\n",
       "</style><div class='table-result-container'><table class='table-result'><thead style='background-color: white'><tr><th>AFFILIATENETWORKNAME</th><th>February</th><th>March</th><th>month_over_month</th></tr></thead><tbody><tr><td>BrandReward</td><td>4585.966078039035</td><td>2378.237348744955</td><td>decrease</td></tr><tr><td>Impact Radius</td><td>14531.881054124933</td><td>12113.970228231588</td><td>decrease</td></tr><tr><td>DigiDip</td><td>9334.76751281391</td><td>10420.32845725199</td><td>increase</td></tr><tr><td>LinkShare</td><td>5286.843448826907</td><td>4766.20981436999</td><td>decrease</td></tr><tr><td>FlexOffers</td><td>70.2489232200872</td><td>98.35615687117479</td><td>increase</td></tr><tr><td>LinkConnector</td><td>105.40143645947228</td><td>110.3543737845956</td><td>increase</td></tr><tr><td>AffiliateWindow</td><td>1621.570894693619</td><td>1423.2585258341644</td><td>decrease</td></tr><tr><td>AvantLink</td><td>827.8595722989961</td><td>826.1647920487161</td><td>decrease</td></tr><tr><td>ShareASale</td><td>1947.3662617584132</td><td>1925.9428237489733</td><td>decrease</td></tr><tr><td>Partnerize</td><td>2094.799255660372</td><td>2026.1716084289085</td><td>decrease</td></tr><tr><td>Groupon Partner Network</td><td>106.20045884549799</td><td>60.77167451614681</td><td>decrease</td></tr><tr><td>SkimLinks</td><td>6802.561180533181</td><td>6719.536772100256</td><td>decrease</td></tr><tr><td>WebGains</td><td>159.3500245872732</td><td>135.69828430630318</td><td>decrease</td></tr><tr><td>Viglink</td><td>15337.09692734223</td><td>16313.583270188548</td><td>increase</td></tr><tr><td>PepperJam</td><td>3538.293099567696</td><td>2665.288933125094</td><td>decrease</td></tr><tr><td>eBay</td><td>925.2467996058483</td><td>961.5219978910045</td><td>increase</td></tr><tr><td>Commission Junction</td><td>11825.139395189888</td><td>11638.83879941742</td><td>decrease</td></tr></tbody></table></div>"
      ]
     },
     "metadata": {
      "application/vnd.databricks.v1+output": {
       "addedWidgets": {},
       "aggData": [],
       "aggError": "",
       "aggOverflow": false,
       "aggSchema": [],
       "aggSeriesLimitReached": false,
       "aggType": "",
       "arguments": {},
       "columnCustomDisplayInfos": {},
       "data": [
        [
         "BrandReward",
         4585.966078039035,
         2378.237348744955,
         "decrease"
        ],
        [
         "Impact Radius",
         14531.881054124933,
         12113.970228231588,
         "decrease"
        ],
        [
         "DigiDip",
         9334.76751281391,
         10420.32845725199,
         "increase"
        ],
        [
         "LinkShare",
         5286.843448826907,
         4766.20981436999,
         "decrease"
        ],
        [
         "FlexOffers",
         70.2489232200872,
         98.35615687117479,
         "increase"
        ],
        [
         "LinkConnector",
         105.40143645947228,
         110.3543737845956,
         "increase"
        ],
        [
         "AffiliateWindow",
         1621.570894693619,
         1423.2585258341644,
         "decrease"
        ],
        [
         "AvantLink",
         827.8595722989961,
         826.1647920487161,
         "decrease"
        ],
        [
         "ShareASale",
         1947.3662617584132,
         1925.9428237489733,
         "decrease"
        ],
        [
         "Partnerize",
         2094.799255660372,
         2026.1716084289085,
         "decrease"
        ],
        [
         "Groupon Partner Network",
         106.20045884549799,
         60.77167451614681,
         "decrease"
        ],
        [
         "SkimLinks",
         6802.561180533181,
         6719.536772100256,
         "decrease"
        ],
        [
         "WebGains",
         159.3500245872732,
         135.69828430630318,
         "decrease"
        ],
        [
         "Viglink",
         15337.09692734223,
         16313.583270188548,
         "increase"
        ],
        [
         "PepperJam",
         3538.293099567696,
         2665.288933125094,
         "decrease"
        ],
        [
         "eBay",
         925.2467996058483,
         961.5219978910045,
         "increase"
        ],
        [
         "Commission Junction",
         11825.139395189888,
         11638.83879941742,
         "decrease"
        ]
       ],
       "datasetInfos": [],
       "dbfsResultPath": null,
       "isJsonSchema": true,
       "metadata": {
        "isDbfsCommandResult": false
       },
       "overflow": false,
       "plotOptions": {
        "customPlotOptions": {},
        "displayType": "table",
        "pivotAggregation": null,
        "pivotColumns": null,
        "xColumns": null,
        "yColumns": null
       },
       "removedWidgets": [],
       "schema": [
        {
         "metadata": "{}",
         "name": "AFFILIATENETWORKNAME",
         "type": "\"string\""
        },
        {
         "metadata": "{}",
         "name": "February",
         "type": "\"double\""
        },
        {
         "metadata": "{}",
         "name": "March",
         "type": "\"double\""
        },
        {
         "metadata": "{}",
         "name": "month_over_month",
         "type": "\"string\""
        }
       ],
       "type": "table"
      }
     },
     "output_type": "display_data"
    }
   ],
   "source": [
    "%sql\n",
    "WITH t1 AS (SELECT \n",
    "AFFILIATENETWORKNAME\n",
    ", February\n",
    ", March\n",
    "FROM \n",
    "(\n",
    "  --calculating daily average nnumber of orders per month for all of affiliate networks\n",
    "SELECT SUM(COMMISSIONAMOUNT)/COUNT(DISTINCT CAST(TRANSACTIONDATE AS Date)) AS MonthlyRev, \n",
    "CASE WHEN MONTH(TRANSACTIONDATE) =2 THEN 'February' ELSE 'March' END AS MonthName, \n",
    "AF.AFFILIATENETWORKNAME\n",
    "FROM Orders AS O\n",
    "LEFT JOIN Affiliate_Network AS AF ON AF.AFFILIATENETWORKID = O.AFFILIATENETWORKID\n",
    "GROUP BY 2, 3\n",
    ") AS t\n",
    "--creating a pivot table to compare between months\n",
    "PIVOT\n",
    "(\n",
    "  SUM(MonthlyRev)\n",
    "  FOR MonthName IN ('February', 'March' )\n",
    ")\n",
    ")\n",
    "SELECT *,\n",
    "CASE WHEN March>February THEN 'increase' ELSE 'decrease' END AS month_over_month\n",
    "FROM t1\n",
    "\n",
    "/* additional comments: \n",
    "1. Data that you provided contains different number of days for February and March\n",
    "(less for March). In order to be able to compare between those two months I calculated daily averages for each month. Otherwise we'd probably see a decreasing trend in March for most of the afiliate networks. \n",
    "2. Taking the above mentioned approach doesn't have to be 100% correct as we need to make sure that we take seasonality factors into consideration. I assume that as a web platform you generate more traffic (which results in higher number of orders) during weekends so it should be taken into consideration in month-over-month comparison. In this case and data that you sent we should make sure that there is a same share of weekends in both of the analyzed months.\n",
    "*/"
   ]
  },
  {
   "cell_type": "markdown",
   "metadata": {
    "application/vnd.databricks.v1+cell": {
     "cellMetadata": {},
     "inputWidgets": {},
     "nuid": "fb23d2fa-e274-44e9-b4ad-9dc6585fab23",
     "showTitle": false,
     "title": ""
    }
   },
   "source": [
    "#Connection to database and saving the data from files into SQL tables"
   ]
  },
  {
   "cell_type": "code",
   "execution_count": 0,
   "metadata": {
    "application/vnd.databricks.v1+cell": {
     "cellMetadata": {
      "byteLimit": 2048000,
      "rowLimit": 10000
     },
     "inputWidgets": {},
     "nuid": "01a6a544-97b4-4751-a941-7c0c6482b3fc",
     "showTitle": false,
     "title": ""
    }
   },
   "outputs": [],
   "source": [
    "connection = \"jdbc:sqlserver://agserverexcercice.database.windows.net:1433;database=xxxxx;user=xxxxxxx;password=xxxxxxprojecct;encrypt=true;trustServerCertificate=false;hostNameInCertificate=*.database.windows.net;loginTimeout=30;\" "
   ]
  },
  {
   "cell_type": "code",
   "execution_count": 0,
   "metadata": {
    "application/vnd.databricks.v1+cell": {
     "cellMetadata": {
      "byteLimit": 2048000,
      "rowLimit": 10000
     },
     "inputWidgets": {},
     "nuid": "33ce9c00-ec9d-4a3f-93df-7b312e07533b",
     "showTitle": false,
     "title": ""
    }
   },
   "outputs": [],
   "source": [
    "AdvertisersDf.write.jdbc(url=connection, table='dbo.Advertisers')"
   ]
  },
  {
   "cell_type": "code",
   "execution_count": 0,
   "metadata": {
    "application/vnd.databricks.v1+cell": {
     "cellMetadata": {
      "byteLimit": 2048000,
      "rowLimit": 10000
     },
     "inputWidgets": {},
     "nuid": "7986880c-b081-45e3-a7f8-a73049e697a6",
     "showTitle": false,
     "title": ""
    }
   },
   "outputs": [],
   "source": [
    "Affiliate_NetworkDf.write.jdbc(url=connection, table ='dbo.AffiliateNetwork')"
   ]
  },
  {
   "cell_type": "code",
   "execution_count": 0,
   "metadata": {
    "application/vnd.databricks.v1+cell": {
     "cellMetadata": {
      "byteLimit": 2048000,
      "rowLimit": 10000
     },
     "inputWidgets": {},
     "nuid": "ce55e6ef-2221-4673-beee-ad37cb40f360",
     "showTitle": false,
     "title": ""
    }
   },
   "outputs": [],
   "source": [
    "Clicks = ClicksDf.limit(1000)"
   ]
  },
  {
   "cell_type": "code",
   "execution_count": 0,
   "metadata": {
    "application/vnd.databricks.v1+cell": {
     "cellMetadata": {
      "byteLimit": 2048000,
      "rowLimit": 10000
     },
     "inputWidgets": {},
     "nuid": "34c061c6-8b03-4bd5-a2ae-615615ac4712",
     "showTitle": false,
     "title": ""
    }
   },
   "outputs": [],
   "source": [
    "Clicks.write.jdbc(url=connection, table ='dbo.Clicks')\n"
   ]
  },
  {
   "cell_type": "code",
   "execution_count": 0,
   "metadata": {
    "application/vnd.databricks.v1+cell": {
     "cellMetadata": {
      "byteLimit": 2048000,
      "rowLimit": 10000
     },
     "inputWidgets": {},
     "nuid": "f86358f1-d190-46fe-95b1-b18c440fd0f8",
     "showTitle": false,
     "title": ""
    }
   },
   "outputs": [],
   "source": [
    "CouponCodesDf.write.jdbc(url=connection, table ='dbo.CouponCodes')"
   ]
  },
  {
   "cell_type": "code",
   "execution_count": 0,
   "metadata": {
    "application/vnd.databricks.v1+cell": {
     "cellMetadata": {
      "byteLimit": 2048000,
      "rowLimit": 10000
     },
     "inputWidgets": {},
     "nuid": "f6bf841f-838e-4c34-8e56-4aaaf9242412",
     "showTitle": false,
     "title": ""
    }
   },
   "outputs": [],
   "source": [
    "DomainNamesDf.write.jdbc(url=connection, table ='dbo.DomainNames')"
   ]
  },
  {
   "cell_type": "code",
   "execution_count": 0,
   "metadata": {
    "application/vnd.databricks.v1+cell": {
     "cellMetadata": {
      "byteLimit": 2048000,
      "rowLimit": 10000
     },
     "inputWidgets": {},
     "nuid": "9f1303bc-a2eb-47bf-96bf-2917f4b7b6c9",
     "showTitle": false,
     "title": ""
    }
   },
   "outputs": [],
   "source": [
    "OrdersDf.write.jdbc(url=connection, table ='dbo.Orders')"
   ]
  },
  {
   "cell_type": "code",
   "execution_count": 0,
   "metadata": {
    "application/vnd.databricks.v1+cell": {
     "cellMetadata": {
      "byteLimit": 2048000,
      "rowLimit": 10000
     },
     "inputWidgets": {},
     "nuid": "d9187271-d1d6-4e6b-a187-a71a11ee73d1",
     "showTitle": false,
     "title": ""
    }
   },
   "outputs": [],
   "source": [
    "PageViews = PageViewsDf.limit(1000)"
   ]
  },
  {
   "cell_type": "code",
   "execution_count": 0,
   "metadata": {
    "application/vnd.databricks.v1+cell": {
     "cellMetadata": {
      "byteLimit": 2048000,
      "rowLimit": 10000
     },
     "inputWidgets": {},
     "nuid": "9fcec088-f3c7-4141-b730-a22864f2ce70",
     "showTitle": false,
     "title": ""
    }
   },
   "outputs": [],
   "source": [
    "PageViews.write.jdbc(url=connection, table ='dbo.PageViews')"
   ]
  },
  {
   "cell_type": "code",
   "execution_count": 0,
   "metadata": {
    "application/vnd.databricks.v1+cell": {
     "cellMetadata": {
      "byteLimit": 2048000,
      "rowLimit": 10000
     },
     "inputWidgets": {},
     "nuid": "9205416e-e80c-4d0c-ae28-140f2944d7a0",
     "showTitle": false,
     "title": ""
    }
   },
   "outputs": [],
   "source": [
    "PartnerWebsitesDf.write.jdbc(url=connection, table ='dbo.PartnerWebsites')"
   ]
  },
  {
   "cell_type": "code",
   "execution_count": 0,
   "metadata": {
    "application/vnd.databricks.v1+cell": {
     "cellMetadata": {
      "byteLimit": 2048000,
      "rowLimit": 10000
     },
     "inputWidgets": {},
     "nuid": "c6ca2dae-a40e-4e0f-be92-8b7f0756bf5a",
     "showTitle": false,
     "title": ""
    }
   },
   "outputs": [],
   "source": [
    "PromotionsDf.write.jdbc(url=connection, table ='dbo.Promotions')\n"
   ]
  }
 ],
 "metadata": {
  "application/vnd.databricks.v1+notebook": {
   "dashboards": [],
   "language": "python",
   "notebookMetadata": {
    "mostRecentlyExecutedCommandWithImplicitDF": {
     "commandId": 589447080998553,
     "dataframes": [
      "_sqldf"
     ]
    },
    "pythonIndentUnit": 2
   },
   "notebookName": "CouponFollowCaseStudy",
   "widgets": {}
  }
 },
 "nbformat": 4,
 "nbformat_minor": 0
}
